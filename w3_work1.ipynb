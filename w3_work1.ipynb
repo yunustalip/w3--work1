{
  "nbformat": 4,
  "nbformat_minor": 0,
  "metadata": {
    "colab": {
      "provenance": [],
      "collapsed_sections": [],
      "authorship_tag": "ABX9TyMZt67UBQcKgckN8Qwc/irQ",
      "include_colab_link": true
    },
    "kernelspec": {
      "name": "python3",
      "display_name": "Python 3"
    },
    "language_info": {
      "name": "python"
    }
  },
  "cells": [
    {
      "cell_type": "markdown",
      "metadata": {
        "id": "view-in-github",
        "colab_type": "text"
      },
      "source": [
        "<a href=\"https://colab.research.google.com/github/yunustalip/w3--work1/blob/master/w3_work1.ipynb\" target=\"_parent\"><img src=\"https://colab.research.google.com/assets/colab-badge.svg\" alt=\"Open In Colab\"/></a>"
      ]
    },
    {
      "cell_type": "code",
      "execution_count": 7,
      "metadata": {
        "colab": {
          "base_uri": "https://localhost:8080/"
        },
        "id": "QFmh7qdF7GNM",
        "outputId": "69981ba4-0245-43c9-9e39-bea252d07530"
      },
      "outputs": [
        {
          "output_type": "stream",
          "name": "stdout",
          "text": [
            "        city area (km²) population\n",
            "34  İstanbul       5461   15840900\n",
            "16     Bursa      10813    3147818\n",
            "06    Ankara      25632    5747325\n",
            "35     İzmir      11891    4425789\n",
            "07   Antalya      20177   2619.832\n",
            "52      Ordu       5861     760872\n",
            "38   Kayseri      16970    1434357\n"
          ]
        }
      ],
      "source": [
        "import pandas as pd\n",
        "\n",
        "dff = pd.DataFrame({'city':['İstanbul', 'Bursa', 'Ankara', 'İzmir', 'Antalya', 'Ordu', 'Kayseri'],\n",
        "                   'area (km²)':['5461', '10813', '25632', '11891', '20177', '5861', '16970'],\n",
        "                   'population':['15840900', '3147818', '5747325', '4425789', '2619.832', '760872', '1434357']\n",
        "                   },\n",
        "                  index=['34', '16', '06', '35', '07', '52', '38'])\n",
        "print(dff)"
      ]
    }
  ]
}